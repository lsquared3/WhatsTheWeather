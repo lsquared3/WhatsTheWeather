{
 "cells": [
  {
   "cell_type": "code",
   "execution_count": 186,
   "metadata": {},
   "outputs": [],
   "source": [
    "# Import the Library to make HTTP requests\n",
    "import requests\n",
    "# Import the Library to make Times understandable\n",
    "from datetime import datetime"
   ]
  },
  {
   "cell_type": "code",
   "execution_count": 187,
   "metadata": {},
   "outputs": [],
   "source": [
    "# Define Important Variables\n",
    "\n",
    "# The Base Endpoint URL\n",
    "weather_URL = 'http://api.openweathermap.org/data/2.5/'\n",
    "\n",
    "# The Request Type (for now, either Current 'Weather' or Current 'Forecast')\n",
    "request_type = 'weather?'\n",
    "# request_type = 'forecast?'\n",
    "\n",
    "# API Key for Open Weather Map dot Org\n",
    "API_key = '&appid=YOUR_APP_ID_GOES_HERE'\n",
    "# The Weather Unit System\n",
    "unit_system = '&units=Imperial'\n",
    "\n",
    "# Zipcode for Starkville as a String plus the Country for the Zipcode\n",
    "zipcode = 'zip=39759,us'\n",
    "\n",
    "# The Upper Main Field (33.4314833,-88.9205815)\n",
    "# Save Lat & Long as Strings\n",
    "the_upper_lat = '33.4314833'\n",
    "the_upper_long = '-88.9205815'\n",
    "\n",
    "# The Lower Duck Pond (33.4561444,-88.9328335)\n",
    "# Save Lat & Long as Strings\n",
    "the_upper_lat = '33.4561444'\n",
    "the_upper_long = '-88.9328335'"
   ]
  },
  {
   "cell_type": "code",
   "execution_count": 188,
   "metadata": {},
   "outputs": [],
   "source": [
    "# The Final Endpoint URL is the weather_call_string = weather_URL + ',us&units=Imperial&appid=' + API_key\n",
    "weather_call_string = weather_URL + request_type + zipcode + unit_system + API_key"
   ]
  },
  {
   "cell_type": "markdown",
   "metadata": {},
   "source": [
    "## The Final URL to Load is"
   ]
  },
  {
   "cell_type": "code",
   "execution_count": 189,
   "metadata": {},
   "outputs": [
    {
     "data": {
      "text/plain": [
       "'http://api.openweathermap.org/data/2.5/weather?zip=39759,us&units=Imperial&appid=090b19f272e6a07218b1547c1141e2b7'"
      ]
     },
     "execution_count": 189,
     "metadata": {},
     "output_type": "execute_result"
    }
   ],
   "source": [
    "weather_call_string"
   ]
  },
  {
   "cell_type": "code",
   "execution_count": 190,
   "metadata": {},
   "outputs": [],
   "source": [
    "# Make the Call to the Endpoint\n",
    "r = requests.get(weather_call_string)"
   ]
  },
  {
   "cell_type": "code",
   "execution_count": 191,
   "metadata": {},
   "outputs": [],
   "source": [
    "# Load the Response as JSON\n",
    "json_response = r.json()"
   ]
  },
  {
   "cell_type": "code",
   "execution_count": 192,
   "metadata": {},
   "outputs": [],
   "source": [
    "# Load the Weather Items\n",
    "temperature = int(json_response['main']['temp'])\n",
    "pressure = int(json_response['main']['pressure'])\n",
    "humidity = int(json_response['main']['humidity'])\n",
    "\n",
    "# The temp_min and temp_max are not the low and high for the day\n",
    "min_temp = int(json_response['main']['temp_min'])\n",
    "max_temp = int(json_response['main']['temp_max'])\n",
    "\n",
    "wind_speed = int(json_response['wind']['speed'])\n",
    "# The wind direction is given in degrees. Need to convert this to be meaningful\n",
    "wind_direction = int(json_response['wind']['deg'])\n",
    "\n",
    "# skies = int(json_response['weather']['main'])\n",
    "\n",
    "# Sunrise and Sunset are in Unix Time...Need to convert\n",
    "sunrise = datetime.fromtimestamp(json_response['sys']['sunrise'])\n",
    "sunrise = sunrise.strftime('%H:%M')\n",
    "sunset = datetime.fromtimestamp(json_response['sys']['sunset'])\n",
    "sunset = sunset.strftime('%H:%M')"
   ]
  },
  {
   "cell_type": "markdown",
   "metadata": {},
   "source": [
    "# The Current Weather"
   ]
  },
  {
   "cell_type": "code",
   "execution_count": 193,
   "metadata": {},
   "outputs": [
    {
     "name": "stdout",
     "output_type": "stream",
     "text": [
      "The temperature is 67 F.\n",
      "The pressure is 1017.\n",
      "The is humidity 56.\n",
      "Today's low is 66 F.\n",
      "Today's high is 68 F.\n",
      "The wind speed is 8 mph.\n",
      "The wind direction in degrees is 110.\n",
      "The sunrise in your local time is 07:58.\n",
      "The sunset in your local time is 19:23.\n"
     ]
    }
   ],
   "source": [
    "print('The temperature is %s F.' % str(temperature))\n",
    "print('The pressure is %s.' % str(pressure))\n",
    "print('The is humidity %s.' % str(humidity))\n",
    "print('Today\\'s low is %s F.' % str(min_temp))\n",
    "print('Today\\'s high is %s F.' % str(max_temp))\n",
    "print('The wind speed is %s mph.' % str(wind_speed))\n",
    "print('The wind direction in degrees is %s.' % str(wind_direction))\n",
    "print('The sunrise in your local time is %s.' % str(sunrise))\n",
    "print('The sunset in your local time is %s.' % str(sunset))"
   ]
  }
 ],
 "metadata": {
  "kernelspec": {
   "display_name": "Python 3",
   "language": "python",
   "name": "python3"
  },
  "language_info": {
   "codemirror_mode": {
    "name": "ipython",
    "version": 3
   },
   "file_extension": ".py",
   "mimetype": "text/x-python",
   "name": "python",
   "nbconvert_exporter": "python",
   "pygments_lexer": "ipython3",
   "version": "3.5.6"
  }
 },
 "nbformat": 4,
 "nbformat_minor": 2
}
